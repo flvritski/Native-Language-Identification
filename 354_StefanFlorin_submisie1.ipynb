{
 "cells": [
  {
   "cell_type": "code",
   "execution_count": 1,
   "metadata": {},
   "outputs": [],
   "source": [
    "import pandas as pd\n",
    "import numpy as np\n",
    "import matplotlib.pyplot as plt\n",
    "import os\n",
    "from sklearn.model_selection import train_test_split, KFold\n",
    "from sklearn.pipeline import Pipeline, make_union\n",
    "from sklearn.metrics import accuracy_score, confusion_matrix, classification_report\n",
    "from sklearn.feature_extraction.text import TfidfVectorizer, CountVectorizer"
   ]
  },
  {
   "cell_type": "code",
   "execution_count": 2,
   "metadata": {},
   "outputs": [],
   "source": [
    "path = '/Users/stefanflorin/Downloads/date_proiect/'"
   ]
  },
  {
   "cell_type": "code",
   "execution_count": 3,
   "metadata": {},
   "outputs": [],
   "source": [
    "data = pd.read_csv('/Users/stefanflorin/Downloads/sampleSubmission.csv')"
   ]
  },
  {
   "cell_type": "code",
   "execution_count": 4,
   "metadata": {},
   "outputs": [
    {
     "data": {
      "text/html": [
       "<div>\n",
       "<style scoped>\n",
       "    .dataframe tbody tr th:only-of-type {\n",
       "        vertical-align: middle;\n",
       "    }\n",
       "\n",
       "    .dataframe tbody tr th {\n",
       "        vertical-align: top;\n",
       "    }\n",
       "\n",
       "    .dataframe thead th {\n",
       "        text-align: right;\n",
       "    }\n",
       "</style>\n",
       "<table border=\"1\" class=\"dataframe\">\n",
       "  <thead>\n",
       "    <tr style=\"text-align: right;\">\n",
       "      <th></th>\n",
       "      <th>Id</th>\n",
       "      <th>Prediction</th>\n",
       "    </tr>\n",
       "  </thead>\n",
       "  <tbody>\n",
       "    <tr>\n",
       "      <td>0</td>\n",
       "      <td>2984</td>\n",
       "      <td>10</td>\n",
       "    </tr>\n",
       "    <tr>\n",
       "      <td>1</td>\n",
       "      <td>2985</td>\n",
       "      <td>3</td>\n",
       "    </tr>\n",
       "    <tr>\n",
       "      <td>2</td>\n",
       "      <td>2986</td>\n",
       "      <td>9</td>\n",
       "    </tr>\n",
       "    <tr>\n",
       "      <td>3</td>\n",
       "      <td>2987</td>\n",
       "      <td>10</td>\n",
       "    </tr>\n",
       "    <tr>\n",
       "      <td>4</td>\n",
       "      <td>2988</td>\n",
       "      <td>3</td>\n",
       "    </tr>\n",
       "  </tbody>\n",
       "</table>\n",
       "</div>"
      ],
      "text/plain": [
       "     Id  Prediction\n",
       "0  2984          10\n",
       "1  2985           3\n",
       "2  2986           9\n",
       "3  2987          10\n",
       "4  2988           3"
      ]
     },
     "execution_count": 4,
     "metadata": {},
     "output_type": "execute_result"
    }
   ],
   "source": [
    "data.head()"
   ]
  },
  {
   "cell_type": "code",
   "execution_count": 5,
   "metadata": {},
   "outputs": [
    {
     "data": {
      "text/html": [
       "<div>\n",
       "<style scoped>\n",
       "    .dataframe tbody tr th:only-of-type {\n",
       "        vertical-align: middle;\n",
       "    }\n",
       "\n",
       "    .dataframe tbody tr th {\n",
       "        vertical-align: top;\n",
       "    }\n",
       "\n",
       "    .dataframe thead th {\n",
       "        text-align: right;\n",
       "    }\n",
       "</style>\n",
       "<table border=\"1\" class=\"dataframe\">\n",
       "  <thead>\n",
       "    <tr style=\"text-align: right;\">\n",
       "      <th></th>\n",
       "      <th>Id</th>\n",
       "      <th>Prediction</th>\n",
       "    </tr>\n",
       "  </thead>\n",
       "  <tbody>\n",
       "    <tr>\n",
       "      <td>1492</td>\n",
       "      <td>4476</td>\n",
       "      <td>4</td>\n",
       "    </tr>\n",
       "    <tr>\n",
       "      <td>1493</td>\n",
       "      <td>4477</td>\n",
       "      <td>7</td>\n",
       "    </tr>\n",
       "    <tr>\n",
       "      <td>1494</td>\n",
       "      <td>4478</td>\n",
       "      <td>9</td>\n",
       "    </tr>\n",
       "    <tr>\n",
       "      <td>1495</td>\n",
       "      <td>4479</td>\n",
       "      <td>2</td>\n",
       "    </tr>\n",
       "    <tr>\n",
       "      <td>1496</td>\n",
       "      <td>4480</td>\n",
       "      <td>2</td>\n",
       "    </tr>\n",
       "  </tbody>\n",
       "</table>\n",
       "</div>"
      ],
      "text/plain": [
       "        Id  Prediction\n",
       "1492  4476           4\n",
       "1493  4477           7\n",
       "1494  4478           9\n",
       "1495  4479           2\n",
       "1496  4480           2"
      ]
     },
     "execution_count": 5,
     "metadata": {},
     "output_type": "execute_result"
    }
   ],
   "source": [
    "data.tail()"
   ]
  },
  {
   "cell_type": "code",
   "execution_count": 6,
   "metadata": {},
   "outputs": [
    {
     "data": {
      "text/plain": [
       "(2983,)"
      ]
     },
     "execution_count": 6,
     "metadata": {},
     "output_type": "execute_result"
    }
   ],
   "source": [
    "y_train = np.loadtxt(path + 'labels_train.txt')\n",
    "y_train.shape"
   ]
  },
  {
   "cell_type": "code",
   "execution_count": 7,
   "metadata": {},
   "outputs": [
    {
     "name": "stdout",
     "output_type": "stream",
     "text": [
      "Unique classes : [ 0.  1.  2.  3.  4.  5.  6.  7.  8.  9. 10.]\n",
      "Number of unique classes :  11\n",
      "Counts for class  0  :  293\n",
      "Counts for class  1  :  269\n",
      "Counts for class  2  :  269\n",
      "Counts for class  3  :  269\n",
      "Counts for class  4  :  269\n",
      "Counts for class  5  :  269\n",
      "Counts for class  6  :  269\n",
      "Counts for class  7  :  269\n",
      "Counts for class  8  :  269\n",
      "Counts for class  9  :  269\n",
      "Counts for class  10  :  269\n"
     ]
    }
   ],
   "source": [
    "uniq_class_arr, counts = np.unique(y_train, return_counts=True)\n",
    "print ('Unique classes :', uniq_class_arr)\n",
    "print ('Number of unique classes : ', len(uniq_class_arr))\n",
    "\n",
    "for _class in uniq_class_arr:\n",
    "    print ('Counts for class ', int(uniq_class_arr[int(_class)]), ' : ', counts[int(_class)])"
   ]
  },
  {
   "cell_type": "code",
   "execution_count": 8,
   "metadata": {},
   "outputs": [
    {
     "data": {
      "text/plain": [
       "11"
      ]
     },
     "execution_count": 8,
     "metadata": {},
     "output_type": "execute_result"
    }
   ],
   "source": [
    "nr_classes = len(np.unique(y_train) + 1)\n",
    "nr_classes"
   ]
  },
  {
   "cell_type": "code",
   "execution_count": 9,
   "metadata": {},
   "outputs": [],
   "source": [
    "def load_data(path):\n",
    "    proiect_path = os.path.join(path)\n",
    "    \n",
    "    X_train = []\n",
    "    X_test = []\n",
    "    for dset in ['train', 'test']:\n",
    "        curr_path = os.path.join(proiect_path, dset)\n",
    "        for curr in sorted(os.listdir(curr_path)):\n",
    "            if curr.endswith('.txt'):\n",
    "                with open(os.path.join(curr_path, curr)) as f:\n",
    "                    if dset=='train':\n",
    "                        X_train.append(f.read())\n",
    "                    else:\n",
    "                        X_test.append(f.read())\n",
    "    X_train = np.array(X_train)\n",
    "    X_test = np.array(X_test)\n",
    "    \n",
    "    return X_train, X_test"
   ]
  },
  {
   "cell_type": "code",
   "execution_count": 10,
   "metadata": {},
   "outputs": [
    {
     "data": {
      "text/plain": [
       "((2983,), (1497,))"
      ]
     },
     "execution_count": 10,
     "metadata": {},
     "output_type": "execute_result"
    }
   ],
   "source": [
    "X_train, X_test = load_data(path)\n",
    "X_train.shape, X_test.shape\n",
    "\n",
    "\n"
   ]
  },
  {
   "cell_type": "code",
   "execution_count": 11,
   "metadata": {},
   "outputs": [
    {
     "data": {
      "text/plain": [
       "\"Commission 's legislation .\\nWe need to formalise and accept the permanent ban which the Commission is proposing now and we need stringent health warnings and labelling to inform our consumers of the risks .\\nWe have to answer to the public on the legislation that we produce in Parliament , and we cannot afford to be complacent about risks to children 's health .\\nMr President , we congratulate Mr Arvidsson for his hard work .\\nHe is in the unusual position of producing a report on Commission action which has already been taken and it is the way it has been taken that we are to some extent talking about here .\\nThe ban on a range of identified phthalates was precautionary .\\nIt attracted broad support and was also in line with the accepted practices of a number of Member States .\\nIf we were simply balancing the health and safety of children against the needs and priorities of industry there would be no contest , but there are related issues which we should address .\\nThe first is how the Commission handles the scientific advice available to it .\\nWas it done in a balanced way ?\\nDoes it give us confidence that this powerful and sometimes necessary weapon of a product ban was used correctly ?\\nI am not sure about this and I want to return to it in an explanation of vote .\\nSecondly , on the wider issue of PVCs in general , how soon will we get the kind of migration testing from which phthalates ' safety can be assessed and the review which is called for in one of the amendments ?\\nWe also need information about when the substitutes which the industry may introduce will be open to equivalent testing .\\nIt is no good banning something if you are unsure about what will replace it .\\nOn the issue of labelling , I am sorry to see that there are amendments against this .\\nPersonally I believe that we have to have it , certainly for children up to the age of six , although some will argue that that leads to another kind de facto ban .\\nEssentially , the number of plastic objects which could be put in the mouth and swallowed is increasing .\\nThis House should be more concerned if it went to bed worried that it had done too much , than if it woke up finding it had done too little .\\nThe precautionary principle should rule .\\nMr President , I congratulate my friend and colleague Mr Arvidsson on attempting to make sense of this draft directive .\\nOf course , if young children are at risk then it is right to take action to remove that risk .\\nThe question on PVC softeners in young children 's chewing toys is : Who says there is definitely a risk ?\\nThe answer is no-one .\\nWho says there could remotely be a risk ?\\nThe answer is Mr Suresh Rastogi , a Danish researcher who used the phthalates he happened to have in his laboratory .\\nHis research has never been confirmed by peer review - indeed it was rejected by the Commission 's own scientific committee , the CSTEE.\\nOf the six named phthalates to be banned as a result , two are used for flooring and cosmetics but not for children 's toys , one is not used at all , one is not made at all , one is not used because of fears it might be carcinogenic ( though on 8 February it was totally cleared by the WHO ) and that leaves one , DINP that is used to soften PVC in chewing rings and so on .\\nSo , what does the CSTEE say about this ?\\nIt said that there was no identifiable risk that could lead to a justified ban , that they were safe if they were used according to existing rules .\\nThe CSTEE met and decided on 25 November .\\nOn 22 November , three days earlier , the Commission had imposed a temporary ban , and we have to ask the Commission why .\\nIt is only justified under the general product safety directive if there is 'immediate and serious risk ' .\\nIf that cannot be shown clearly , then the legality of the temporary ban can and should be questioned in this case .\\nIndeed , the case was to be brought to court but was put on hold when the Commission agreed to work to produce validation systems for the test methods by the end of this year ; so we can test these and test the alternatives .\\nWhy is the Commission rushing forward now ?\\nWhy are the CSTEE minutes not published until April , and why has a statement critical of the Commission 's misunderstanding or misinterpretation of the research still not been published ?\\nCrying wolf damages the credibility of the precautionary principle .\\nI ask the Commission to answer these questions today , and to get its internal scaremongers under control .\\nAs other colleagues have said , this is a thoroughly odd proposal .\\nIt is a very bad proposal and I hope that Mr Liikanen when he speaks will agree to suspend it .\\nI do not think it should be withdrawn , I think it should be suspended .\\nI am concerned about the precedent that this proposal will set .\\nThe precautionary principle is very sensibly described in a recent Commission paper .\\nThere is an obvious danger of applying it too widely because it brings the European Union approach into disrepute .\\nFor example , a thousand people a year - no doubt some of them small children - die in England and Wales while falling downstairs .\\nI do hope that does not mean that we are going to see a European Union regulation restricting us all to living in bungalows\""
      ]
     },
     "execution_count": 11,
     "metadata": {},
     "output_type": "execute_result"
    }
   ],
   "source": [
    "X_train[0]"
   ]
  },
  {
   "cell_type": "code",
   "execution_count": 15,
   "metadata": {},
   "outputs": [],
   "source": [
    "XX_train, XX_test, yy_train, yy_test = train_test_split(X_train, y_train, test_size = 0.2, random_state=42)"
   ]
  },
  {
   "cell_type": "code",
   "execution_count": 16,
   "metadata": {},
   "outputs": [
    {
     "data": {
      "text/plain": [
       "(2386, 46236)"
      ]
     },
     "execution_count": 16,
     "metadata": {},
     "output_type": "execute_result"
    }
   ],
   "source": [
    "vectorizer = TfidfVectorizer(lowercase=True, \n",
    "                             ngram_range=(1,2), \n",
    "                             min_df=6, \n",
    "                             strip_accents='unicode', \n",
    "                             decode_error='ignore',\n",
    "                             stop_words=['the','of', 'a', 'there','I', 'to', 'is' , \n",
    "                                         'have', 'and', 'it', ],\n",
    "                             max_features=90000,\n",
    "                             max_df = 0.95,\n",
    "                             sublinear_tf=True,\n",
    "                             #smooth_idf=False,\n",
    "                             norm = 'l2',\n",
    "                            )\n",
    "\n",
    "XX_train = vectorizer.fit_transform(XX_train)\n",
    "XX_train.shape"
   ]
  },
  {
   "cell_type": "markdown",
   "metadata": {},
   "source": [
    "## LinearSVC"
   ]
  },
  {
   "cell_type": "code",
   "execution_count": 17,
   "metadata": {},
   "outputs": [],
   "source": [
    "from sklearn.svm import LinearSVC\n",
    "from sklearn.metrics import classification_report"
   ]
  },
  {
   "cell_type": "code",
   "execution_count": 18,
   "metadata": {},
   "outputs": [],
   "source": [
    "svc = LinearSVC(C=100)"
   ]
  },
  {
   "cell_type": "code",
   "execution_count": 19,
   "metadata": {},
   "outputs": [
    {
     "data": {
      "text/plain": [
       "LinearSVC(C=100, class_weight=None, dual=True, fit_intercept=True,\n",
       "          intercept_scaling=1, loss='squared_hinge', max_iter=1000,\n",
       "          multi_class='ovr', penalty='l2', random_state=None, tol=0.0001,\n",
       "          verbose=0)"
      ]
     },
     "execution_count": 19,
     "metadata": {},
     "output_type": "execute_result"
    }
   ],
   "source": [
    "svc.fit(XX_train, yy_train)"
   ]
  },
  {
   "cell_type": "code",
   "execution_count": 21,
   "metadata": {},
   "outputs": [],
   "source": [
    "XX_test = vectorizer.transform(XX_test)"
   ]
  },
  {
   "cell_type": "code",
   "execution_count": 22,
   "metadata": {},
   "outputs": [
    {
     "name": "stdout",
     "output_type": "stream",
     "text": [
      "0.9698492462311558\n"
     ]
    }
   ],
   "source": [
    "print(accuracy_score(svc.predict(XX_test), yy_test))"
   ]
  },
  {
   "cell_type": "code",
   "execution_count": 23,
   "metadata": {},
   "outputs": [
    {
     "name": "stdout",
     "output_type": "stream",
     "text": [
      "              precision    recall  f1-score   support\n",
      "\n",
      "         0.0       1.00      1.00      1.00        64\n",
      "         1.0       0.98      1.00      0.99        53\n",
      "         2.0       0.96      0.98      0.97        55\n",
      "         3.0       0.98      1.00      0.99        54\n",
      "         4.0       0.96      0.96      0.96        45\n",
      "         5.0       0.98      0.93      0.95        56\n",
      "         6.0       1.00      1.00      1.00        46\n",
      "         7.0       1.00      0.95      0.97        61\n",
      "         8.0       0.89      0.98      0.93        55\n",
      "         9.0       0.92      0.91      0.92        54\n",
      "        10.0       1.00      0.96      0.98        54\n",
      "\n",
      "    accuracy                           0.97       597\n",
      "   macro avg       0.97      0.97      0.97       597\n",
      "weighted avg       0.97      0.97      0.97       597\n",
      "\n"
     ]
    }
   ],
   "source": [
    "print(classification_report(svc.predict(XX_test), yy_test))"
   ]
  },
  {
   "cell_type": "code",
   "execution_count": 24,
   "metadata": {},
   "outputs": [
    {
     "data": {
      "text/plain": [
       "0.9698492462311558"
      ]
     },
     "execution_count": 24,
     "metadata": {},
     "output_type": "execute_result"
    }
   ],
   "source": [
    "svc.score(XX_test, yy_test)"
   ]
  },
  {
   "cell_type": "code",
   "execution_count": 25,
   "metadata": {},
   "outputs": [
    {
     "name": "stdout",
     "output_type": "stream",
     "text": [
      "597\n"
     ]
    }
   ],
   "source": [
    "opdasda = svc.predict(XX_test)\n",
    "print(len(opdasda))"
   ]
  },
  {
   "cell_type": "code",
   "execution_count": 26,
   "metadata": {},
   "outputs": [],
   "source": [
    "test = vectorizer.transform(X_test)"
   ]
  },
  {
   "cell_type": "code",
   "execution_count": 27,
   "metadata": {},
   "outputs": [
    {
     "data": {
      "text/plain": [
       "array([9., 9., 7., ..., 1., 7., 3.])"
      ]
     },
     "execution_count": 27,
     "metadata": {},
     "output_type": "execute_result"
    }
   ],
   "source": [
    "predicitions = svc.predict(test)\n",
    "predicitions"
   ]
  },
  {
   "cell_type": "code",
   "execution_count": 28,
   "metadata": {},
   "outputs": [
    {
     "data": {
      "text/html": [
       "<div>\n",
       "<style scoped>\n",
       "    .dataframe tbody tr th:only-of-type {\n",
       "        vertical-align: middle;\n",
       "    }\n",
       "\n",
       "    .dataframe tbody tr th {\n",
       "        vertical-align: top;\n",
       "    }\n",
       "\n",
       "    .dataframe thead th {\n",
       "        text-align: right;\n",
       "    }\n",
       "</style>\n",
       "<table border=\"1\" class=\"dataframe\">\n",
       "  <thead>\n",
       "    <tr style=\"text-align: right;\">\n",
       "      <th></th>\n",
       "      <th>Id</th>\n",
       "    </tr>\n",
       "  </thead>\n",
       "  <tbody>\n",
       "    <tr>\n",
       "      <td>0</td>\n",
       "      <td>2984</td>\n",
       "    </tr>\n",
       "    <tr>\n",
       "      <td>1</td>\n",
       "      <td>2985</td>\n",
       "    </tr>\n",
       "    <tr>\n",
       "      <td>2</td>\n",
       "      <td>2986</td>\n",
       "    </tr>\n",
       "    <tr>\n",
       "      <td>3</td>\n",
       "      <td>2987</td>\n",
       "    </tr>\n",
       "    <tr>\n",
       "      <td>4</td>\n",
       "      <td>2988</td>\n",
       "    </tr>\n",
       "  </tbody>\n",
       "</table>\n",
       "</div>"
      ],
      "text/plain": [
       "     Id\n",
       "0  2984\n",
       "1  2985\n",
       "2  2986\n",
       "3  2987\n",
       "4  2988"
      ]
     },
     "execution_count": 28,
     "metadata": {},
     "output_type": "execute_result"
    }
   ],
   "source": [
    "data = data.drop(columns='Prediction')\n",
    "data.head()"
   ]
  },
  {
   "cell_type": "code",
   "execution_count": 30,
   "metadata": {},
   "outputs": [],
   "source": [
    "desired_array = [int(numeric_string) for numeric_string in predicitions]"
   ]
  },
  {
   "cell_type": "code",
   "execution_count": 31,
   "metadata": {},
   "outputs": [
    {
     "data": {
      "text/html": [
       "<div>\n",
       "<style scoped>\n",
       "    .dataframe tbody tr th:only-of-type {\n",
       "        vertical-align: middle;\n",
       "    }\n",
       "\n",
       "    .dataframe tbody tr th {\n",
       "        vertical-align: top;\n",
       "    }\n",
       "\n",
       "    .dataframe thead th {\n",
       "        text-align: right;\n",
       "    }\n",
       "</style>\n",
       "<table border=\"1\" class=\"dataframe\">\n",
       "  <thead>\n",
       "    <tr style=\"text-align: right;\">\n",
       "      <th></th>\n",
       "      <th>Id</th>\n",
       "      <th>Prediction</th>\n",
       "    </tr>\n",
       "  </thead>\n",
       "  <tbody>\n",
       "    <tr>\n",
       "      <td>0</td>\n",
       "      <td>2984</td>\n",
       "      <td>9</td>\n",
       "    </tr>\n",
       "    <tr>\n",
       "      <td>1</td>\n",
       "      <td>2985</td>\n",
       "      <td>9</td>\n",
       "    </tr>\n",
       "    <tr>\n",
       "      <td>2</td>\n",
       "      <td>2986</td>\n",
       "      <td>7</td>\n",
       "    </tr>\n",
       "    <tr>\n",
       "      <td>3</td>\n",
       "      <td>2987</td>\n",
       "      <td>1</td>\n",
       "    </tr>\n",
       "    <tr>\n",
       "      <td>4</td>\n",
       "      <td>2988</td>\n",
       "      <td>2</td>\n",
       "    </tr>\n",
       "  </tbody>\n",
       "</table>\n",
       "</div>"
      ],
      "text/plain": [
       "     Id  Prediction\n",
       "0  2984           9\n",
       "1  2985           9\n",
       "2  2986           7\n",
       "3  2987           1\n",
       "4  2988           2"
      ]
     },
     "execution_count": 31,
     "metadata": {},
     "output_type": "execute_result"
    }
   ],
   "source": [
    "data['Prediction'] = desired_array\n",
    "data.head()"
   ]
  },
  {
   "cell_type": "code",
   "execution_count": 32,
   "metadata": {},
   "outputs": [
    {
     "data": {
      "text/html": [
       "<div>\n",
       "<style scoped>\n",
       "    .dataframe tbody tr th:only-of-type {\n",
       "        vertical-align: middle;\n",
       "    }\n",
       "\n",
       "    .dataframe tbody tr th {\n",
       "        vertical-align: top;\n",
       "    }\n",
       "\n",
       "    .dataframe thead th {\n",
       "        text-align: right;\n",
       "    }\n",
       "</style>\n",
       "<table border=\"1\" class=\"dataframe\">\n",
       "  <thead>\n",
       "    <tr style=\"text-align: right;\">\n",
       "      <th></th>\n",
       "      <th>Id</th>\n",
       "      <th>Prediction</th>\n",
       "    </tr>\n",
       "  </thead>\n",
       "  <tbody>\n",
       "    <tr>\n",
       "      <td>0</td>\n",
       "      <td>2984</td>\n",
       "      <td>9</td>\n",
       "    </tr>\n",
       "    <tr>\n",
       "      <td>1</td>\n",
       "      <td>2985</td>\n",
       "      <td>9</td>\n",
       "    </tr>\n",
       "    <tr>\n",
       "      <td>2</td>\n",
       "      <td>2986</td>\n",
       "      <td>7</td>\n",
       "    </tr>\n",
       "    <tr>\n",
       "      <td>3</td>\n",
       "      <td>2987</td>\n",
       "      <td>1</td>\n",
       "    </tr>\n",
       "    <tr>\n",
       "      <td>4</td>\n",
       "      <td>2988</td>\n",
       "      <td>2</td>\n",
       "    </tr>\n",
       "  </tbody>\n",
       "</table>\n",
       "</div>"
      ],
      "text/plain": [
       "     Id  Prediction\n",
       "0  2984           9\n",
       "1  2985           9\n",
       "2  2986           7\n",
       "3  2987           1\n",
       "4  2988           2"
      ]
     },
     "execution_count": 32,
     "metadata": {},
     "output_type": "execute_result"
    }
   ],
   "source": [
    "data.to_csv('/Users/stefanflorin/Desktop/submissions_ala_bun.csv', index=False)\n",
    "data.head()"
   ]
  },
  {
   "cell_type": "markdown",
   "metadata": {},
   "source": [
    "## KFold Cross Validation"
   ]
  },
  {
   "cell_type": "code",
   "execution_count": 33,
   "metadata": {},
   "outputs": [],
   "source": [
    "from sklearn.model_selection import KFold"
   ]
  },
  {
   "cell_type": "code",
   "execution_count": 34,
   "metadata": {},
   "outputs": [
    {
     "data": {
      "text/plain": [
       "KFold(n_splits=10, random_state=42, shuffle=True)"
      ]
     },
     "execution_count": 34,
     "metadata": {},
     "output_type": "execute_result"
    }
   ],
   "source": [
    "kf = KFold(n_splits=10, random_state=42, shuffle=True)\n",
    "kf"
   ]
  },
  {
   "cell_type": "code",
   "execution_count": 35,
   "metadata": {},
   "outputs": [
    {
     "data": {
      "text/plain": [
       "10"
      ]
     },
     "execution_count": 35,
     "metadata": {},
     "output_type": "execute_result"
    }
   ],
   "source": [
    "kf.get_n_splits(XX_train)"
   ]
  },
  {
   "cell_type": "code",
   "execution_count": 38,
   "metadata": {},
   "outputs": [],
   "source": [
    "def get_score(svc, X_train, y_train, X_test, y_test):\n",
    "    \n",
    "    vectorizer = TfidfVectorizer(lowercase=True, \n",
    "                             ngram_range=(1,2), \n",
    "                             min_df=6, \n",
    "                             strip_accents='unicode', \n",
    "                             decode_error='ignore',\n",
    "                             stop_words=['the','of', 'a', 'there','I', 'to', 'is' , \n",
    "                                         'have', 'and', 'it', ],\n",
    "                             max_features=90000,\n",
    "                             max_df = 0.95,\n",
    "                             sublinear_tf=True,\n",
    "                             #smooth_idf=False,\n",
    "                             norm = 'l2',\n",
    "                            )\n",
    "\n",
    "    XX_train = vectorizer.fit_transform(X_train)\n",
    "    XX_test = vectorizer.transform(X_test)\n",
    "    svc.fit(XX_train, y_train)\n",
    "    return svc.score(XX_test, y_test)"
   ]
  },
  {
   "cell_type": "code",
   "execution_count": 39,
   "metadata": {},
   "outputs": [
    {
     "name": "stdout",
     "output_type": "stream",
     "text": [
      "[0.9765886287625418, 0.9698996655518395, 0.9732441471571907, 0.9765100671140939, 0.9865771812080537, 0.9798657718120806, 0.9630872483221476, 0.9664429530201343, 0.959731543624161, 0.9697986577181208]\n"
     ]
    }
   ],
   "source": [
    "scores_svc = []\n",
    "#scores_nb = []\n",
    "#scores_lr = []\n",
    "for train_index, test_index in kf.split(X_train):\n",
    "    train_text, test_text, train_target, test_target = X_train[train_index], X_train[test_index], y_train[train_index], y_train[test_index]\n",
    "    scores_svc.append(get_score(svc, train_text, train_target, test_text, test_target))\n",
    "    #scores_lr.append(get_score(lr, train_text, train_target, test_text, test_target))\n",
    "    #scores_nb.append(get_score(nb, train_text, train_target, test_text, test_target))\n",
    "print(scores_svc)"
   ]
  },
  {
   "cell_type": "code",
   "execution_count": 40,
   "metadata": {},
   "outputs": [
    {
     "name": "stdout",
     "output_type": "stream",
     "text": [
      "0.9721745864290364\n"
     ]
    }
   ],
   "source": [
    "print(np.mean(scores_svc))"
   ]
  },
  {
   "cell_type": "markdown",
   "metadata": {},
   "source": [
    "## Matricea de Confuzie"
   ]
  },
  {
   "cell_type": "code",
   "execution_count": 41,
   "metadata": {},
   "outputs": [
    {
     "data": {
      "image/png": "[encoded data removed]",
      "text/plain": [
       "<Figure size 720x504 with 2 Axes>"
      ]
     },
     "metadata": {
      "needs_background": "light"
     },
     "output_type": "display_data"
    }
   ],
   "source": [
    "from sklearn.metrics import confusion_matrix\n",
    "cm = confusion_matrix(opdasda, yy_test)\n",
    "import seaborn as sns\n",
    "plt.figure(figsize = (10,7))\n",
    "sns.heatmap(cm, annot=True)\n",
    "plt.show()"
   ]
  },
  {
   "cell_type": "code",
   "execution_count": null,
   "metadata": {},
   "outputs": [],
   "source": []
  }
 ],
 "metadata": {
  "kernelspec": {
   "display_name": "Python 3",
   "language": "python",
   "name": "python3"
  },
  "language_info": {
   "codemirror_mode": {
    "name": "ipython",
    "version": 3
   },
   "file_extension": ".py",
   "mimetype": "text/x-python",
   "name": "python",
   "nbconvert_exporter": "python",
   "pygments_lexer": "ipython3",
   "version": "3.7.4"
  }
 },
 "nbformat": 4,
 "nbformat_minor": 2
}
